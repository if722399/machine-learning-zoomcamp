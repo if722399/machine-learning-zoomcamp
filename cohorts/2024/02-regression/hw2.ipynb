{
 "cells": [
  {
   "cell_type": "code",
   "execution_count": 1,
   "metadata": {},
   "outputs": [],
   "source": [
    "import polars as pl\n",
    "import numpy as np\n",
    "\n",
    "df = pl.read_csv('./laptops.csv')"
   ]
  },
  {
   "cell_type": "markdown",
   "metadata": {},
   "source": [
    "### Preparing the dataset "
   ]
  },
  {
   "cell_type": "code",
   "execution_count": 2,
   "metadata": {},
   "outputs": [],
   "source": [
    "df.columns = [col.lower().replace(' ', '_')\n",
    "              for col in df.columns]"
   ]
  },
  {
   "cell_type": "markdown",
   "metadata": {},
   "source": [
    "### Question 1\n",
    "\n",
    "There's one column with missing values. What is it?"
   ]
  },
  {
   "cell_type": "code",
   "execution_count": 3,
   "metadata": {},
   "outputs": [
    {
     "data": {
      "text/html": [
       "<div><style>\n",
       ".dataframe > thead > tr,\n",
       ".dataframe > tbody > tr {\n",
       "  text-align: right;\n",
       "  white-space: pre-wrap;\n",
       "}\n",
       "</style>\n",
       "<small>shape: (1, 4)</small><table border=\"1\" class=\"dataframe\"><thead><tr><th>ram</th><th>storage</th><th>screen</th><th>final_price</th></tr><tr><td>u32</td><td>u32</td><td>u32</td><td>u32</td></tr></thead><tbody><tr><td>0</td><td>0</td><td>4</td><td>0</td></tr></tbody></table></div>"
      ],
      "text/plain": [
       "shape: (1, 4)\n",
       "┌─────┬─────────┬────────┬─────────────┐\n",
       "│ ram ┆ storage ┆ screen ┆ final_price │\n",
       "│ --- ┆ ---     ┆ ---    ┆ ---         │\n",
       "│ u32 ┆ u32     ┆ u32    ┆ u32         │\n",
       "╞═════╪═════════╪════════╪═════════════╡\n",
       "│ 0   ┆ 0       ┆ 4      ┆ 0           │\n",
       "└─────┴─────────┴────────┴─────────────┘"
      ]
     },
     "execution_count": 3,
     "metadata": {},
     "output_type": "execute_result"
    }
   ],
   "source": [
    "cols = ['ram', 'storage', 'screen', 'final_price']\n",
    "df.select([pl.col(col).is_null().sum().alias(col) for col in cols])\n"
   ]
  },
  {
   "cell_type": "markdown",
   "metadata": {},
   "source": [
    "Answer: screen"
   ]
  },
  {
   "cell_type": "markdown",
   "metadata": {},
   "source": [
    "### Question 2\n",
    "\n",
    "What's the median (50% percentile) for variable `'ram'`?"
   ]
  },
  {
   "cell_type": "code",
   "execution_count": 4,
   "metadata": {},
   "outputs": [
    {
     "data": {
      "text/plain": [
       "16.0"
      ]
     },
     "execution_count": 4,
     "metadata": {},
     "output_type": "execute_result"
    }
   ],
   "source": [
    "df['ram'].median()"
   ]
  },
  {
   "cell_type": "markdown",
   "metadata": {},
   "source": [
    "Answer: 16"
   ]
  },
  {
   "cell_type": "markdown",
   "metadata": {},
   "source": [
    "### Prepare and split the dataset\n",
    "\n",
    "* Shuffle the dataset (the filtered one you created above), use seed `42`.\n",
    "* Split your data in train/val/test sets, with 60%/20%/20% distribution.\n",
    "\n",
    "Use the same code as in the lectures\n",
    "\n",
    "\n",
    "### Question 3\n",
    "\n",
    "* We need to deal with missing values for the column from Q1.\n",
    "* We have two options: fill it with 0 or with the mean of this variable.\n",
    "* Try both options. For each, train a linear regression model without regularization using the code from the lessons.\n",
    "* For computing the mean, use the training only!\n",
    "* Use the validation dataset to evaluate the models and compare the RMSE of each option.\n",
    "* Round the RMSE scores to 2 decimal digits using `round(score, 2)`\n",
    "* Which option gives better RMSE?"
   ]
  },
  {
   "cell_type": "code",
   "execution_count": 5,
   "metadata": {},
   "outputs": [],
   "source": [
    "from main import MLPipeline\n",
    "\n",
    "pipeline = MLPipeline(df=df[cols],\n",
    "                        target_column='final_price')"
   ]
  },
  {
   "cell_type": "code",
   "execution_count": 6,
   "metadata": {},
   "outputs": [
    {
     "name": "stdout",
     "output_type": "stream",
     "text": [
      "Imputing with zeros:\n",
      "Shuffling with seed 42\n",
      "RMSE on Validation Set: 618.8325\n"
     ]
    },
    {
     "data": {
      "text/plain": [
       "np.float64(618.8324947379351)"
      ]
     },
     "execution_count": 6,
     "metadata": {},
     "output_type": "execute_result"
    }
   ],
   "source": [
    "print('Imputing with zeros:')\n",
    "\n",
    "pipeline.run_pipeline(\n",
    "    train_frac=0.6,\n",
    "    val_frac=0.2,\n",
    "    impute_method='zeros',\n",
    "    scale=True,\n",
    "    model_type='linear_regression'\n",
    ")"
   ]
  },
  {
   "cell_type": "code",
   "execution_count": 7,
   "metadata": {},
   "outputs": [
    {
     "name": "stdout",
     "output_type": "stream",
     "text": [
      "Imputing with mean:\n",
      "Shuffling with seed 42\n",
      "RMSE on Validation Set: 619.7341\n"
     ]
    },
    {
     "data": {
      "text/plain": [
       "np.float64(619.7340987607007)"
      ]
     },
     "execution_count": 7,
     "metadata": {},
     "output_type": "execute_result"
    }
   ],
   "source": [
    "print('Imputing with mean:')\n",
    "\n",
    "pipeline.run_pipeline(\n",
    "    train_frac=0.6,\n",
    "    val_frac=0.2,\n",
    "    impute_method='mean',\n",
    "    scale=True,\n",
    "    model_type='linear_regression'\n",
    ")"
   ]
  },
  {
   "cell_type": "markdown",
   "metadata": {},
   "source": [
    "Answer: Imputing with zeros"
   ]
  },
  {
   "cell_type": "markdown",
   "metadata": {},
   "source": [
    "### Question 4\n",
    "\n",
    "* Now let's train a regularized linear regression.\n",
    "* For this question, fill the NAs with 0. \n",
    "* Try different values of `r` from this list: `[0, 0.01, 0.1, 1, 5, 10, 100]`.\n",
    "* Use RMSE to evaluate the model on the validation dataset.\n",
    "* Round the RMSE scores to 2 decimal digits.\n",
    "* Which `r` gives the best RMSE?\n",
    "\n",
    "If there are multiple options, select the smallest `r`.\n",
    "\n",
    "Options:\n",
    "\n",
    "- 0\n",
    "- 0.01\n",
    "- 1\n",
    "- 10\n",
    "- 100"
   ]
  },
  {
   "cell_type": "code",
   "execution_count": 8,
   "metadata": {},
   "outputs": [
    {
     "name": "stdout",
     "output_type": "stream",
     "text": [
      "\n",
      "Using r = 0\n",
      "Shuffling with seed 42\n",
      "RMSE on Validation Set: 618.8325\n",
      "\n",
      "Using r = 0.01\n",
      "Shuffling with seed 42\n",
      "RMSE on Validation Set: 618.8317\n",
      "\n",
      "Using r = 0.1\n",
      "Shuffling with seed 42\n",
      "RMSE on Validation Set: 618.8246\n",
      "\n",
      "Using r = 1\n",
      "Shuffling with seed 42\n",
      "RMSE on Validation Set: 618.7543\n",
      "\n",
      "Using r = 5\n",
      "Shuffling with seed 42\n",
      "RMSE on Validation Set: 618.4614\n",
      "\n",
      "Using r = 10\n",
      "Shuffling with seed 42\n",
      "RMSE on Validation Set: 618.1395\n",
      "\n",
      "Using r = 100\n",
      "Shuffling with seed 42\n",
      "RMSE on Validation Set: 619.6306\n"
     ]
    }
   ],
   "source": [
    "rs = [0, 0.01, 0.1, 1, 5, 10, 100]\n",
    "for r in rs:\n",
    "    \n",
    "    print(f'\\nUsing r = {r}')\n",
    "\n",
    "    res = pipeline.run_pipeline(\n",
    "        train_frac=0.6,\n",
    "        val_frac=0.2,\n",
    "        impute_method='zeros',\n",
    "        scale=True,\n",
    "        model_type='linear_regression',\n",
    "        regularization_type='ridge',\n",
    "        r=r\n",
    "    )\n"
   ]
  },
  {
   "cell_type": "markdown",
   "metadata": {},
   "source": [
    "Answer: r = 0"
   ]
  },
  {
   "cell_type": "markdown",
   "metadata": {},
   "source": [
    "### Question 5 \n",
    "\n",
    "* We used seed 42 for splitting the data. Let's find out how selecting the seed influences our score.\n",
    "* Try different seed values: `[0, 1, 2, 3, 4, 5, 6, 7, 8, 9]`.\n",
    "* For each seed, do the train/validation/test split with 60%/20%/20% distribution.\n",
    "* Fill the missing values with 0 and train a model without regularization.\n",
    "* For each seed, evaluate the model on the validation dataset and collect the RMSE scores. \n",
    "* What's the standard deviation of all the scores? To compute the standard deviation, use `np.std`.\n",
    "* Round the result to 3 decimal digits (`round(std, 3)`)\n",
    "\n",
    "What's the value of std?\n",
    "\n",
    "- 19.176\n",
    "- 29.176\n",
    "- 39.176\n",
    "- 49.176\n",
    "\n",
    "> Note: Standard deviation shows how different the values are.\n",
    "> If it's low, then all values are approximately the same.\n",
    "> If it's high, the values are different. \n",
    "> If standard deviation of scores is low, then our model is *stable*."
   ]
  },
  {
   "cell_type": "code",
   "execution_count": 9,
   "metadata": {},
   "outputs": [
    {
     "name": "stdout",
     "output_type": "stream",
     "text": [
      "\n",
      "Using seed = 0\n",
      "Shuffling with seed 0\n",
      "RMSE on Validation Set: 566.7122\n",
      "\n",
      "Using seed = 1\n",
      "Shuffling with seed 1\n",
      "RMSE on Validation Set: 568.8254\n",
      "\n",
      "Using seed = 2\n",
      "Shuffling with seed 2\n",
      "RMSE on Validation Set: 547.6800\n",
      "\n",
      "Using seed = 3\n",
      "Shuffling with seed 3\n",
      "RMSE on Validation Set: 588.5635\n",
      "\n",
      "Using seed = 4\n",
      "Shuffling with seed 4\n",
      "RMSE on Validation Set: 540.2501\n",
      "\n",
      "Using seed = 5\n",
      "Shuffling with seed 5\n",
      "RMSE on Validation Set: 612.1302\n",
      "\n",
      "Using seed = 6\n",
      "Shuffling with seed 6\n",
      "RMSE on Validation Set: 550.1886\n",
      "\n",
      "Using seed = 7\n",
      "Shuffling with seed 7\n",
      "RMSE on Validation Set: 576.8050\n",
      "\n",
      "Using seed = 8\n",
      "Shuffling with seed 8\n",
      "RMSE on Validation Set: 594.9260\n",
      "\n",
      "Using seed = 9\n",
      "Shuffling with seed 9\n",
      "RMSE on Validation Set: 632.4826\n",
      "\n",
      "STD: 28.03916627634261\n"
     ]
    }
   ],
   "source": [
    "shuffle_seeds = [0, 1, 2, 3, 4, 5, 6, 7, 8, 9]\n",
    "results = []\n",
    "for shuffle_seed in shuffle_seeds:\n",
    "    \n",
    "    print(f'\\nUsing seed = {shuffle_seed}')\n",
    "\n",
    "    res = pipeline.run_pipeline(\n",
    "        shuffle_seed=shuffle_seed,\n",
    "        train_frac=0.6,\n",
    "        val_frac=0.2,\n",
    "        impute_method='zeros',\n",
    "        scale=True,\n",
    "        model_type='linear_regression'\n",
    "    )\n",
    "    \n",
    "    results.append(res)\n",
    "\n",
    "print(f'\\nSTD: {np.std(results)}')"
   ]
  },
  {
   "cell_type": "markdown",
   "metadata": {},
   "source": [
    "Answer: 29.176"
   ]
  },
  {
   "cell_type": "markdown",
   "metadata": {},
   "source": [
    "### Question 6\n",
    "\n",
    "* Split the dataset like previously, use seed 9.\n",
    "* Combine train and validation datasets.\n",
    "* Fill the missing values with 0 and train a model with `r=0.001`. \n",
    "* What's the RMSE on the test dataset?\n",
    "\n",
    "Options:\n",
    "\n",
    "- 598.60\n",
    "- 608.60\n",
    "- 618.60\n",
    "- 628.60"
   ]
  },
  {
   "cell_type": "code",
   "execution_count": 10,
   "metadata": {},
   "outputs": [
    {
     "name": "stdout",
     "output_type": "stream",
     "text": [
      "Shuffling with seed 9\n",
      "Using both training and validation sets for training.\n",
      "RMSE on Validation Set: 627.5267\n",
      "627.5267048821223\n"
     ]
    }
   ],
   "source": [
    "res = pipeline.run_pipeline(\n",
    "    shuffle_seed=9,\n",
    "    train_frac=0.6,\n",
    "    val_frac=0.2,\n",
    "    impute_method='zeros',\n",
    "    scale=True,\n",
    "    model_type='linear_regression',\n",
    "    regularization_type='ridge',\n",
    "    r=0.001,\n",
    "    use_validation_set_for_training=True\n",
    ")\n",
    "\n",
    "print(res)"
   ]
  },
  {
   "cell_type": "markdown",
   "metadata": {},
   "source": [
    "Answer: 628.6"
   ]
  }
 ],
 "metadata": {
  "kernelspec": {
   "display_name": ".venv",
   "language": "python",
   "name": "python3"
  },
  "language_info": {
   "codemirror_mode": {
    "name": "ipython",
    "version": 3
   },
   "file_extension": ".py",
   "mimetype": "text/x-python",
   "name": "python",
   "nbconvert_exporter": "python",
   "pygments_lexer": "ipython3",
   "version": "3.9.6"
  }
 },
 "nbformat": 4,
 "nbformat_minor": 2
}
